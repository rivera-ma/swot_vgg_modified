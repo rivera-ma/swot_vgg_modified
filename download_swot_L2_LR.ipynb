{
 "cells": [
  {
   "cell_type": "code",
   "execution_count": null,
   "metadata": {},
   "outputs": [],
   "source": [
    "# import geopandas as gpd\n",
    "# import glob\n",
    "# from pathlib import Path\n",
    "# import pandas as pd\n",
    "# import os\n",
    "# import zipfile\n",
    "# import earthaccess"
   ]
  },
  {
   "cell_type": "code",
   "execution_count": null,
   "metadata": {},
   "outputs": [
    {
     "name": "stdout",
     "output_type": "stream",
     "text": [
      "Granules: 579\n"
     ]
    },
    {
     "data": {
      "application/vnd.jupyter.widget-view+json": {
       "model_id": "cac98643b4b147ab8f86ebe61788cba8",
       "version_major": 2,
       "version_minor": 0
      },
      "text/plain": [
       "QUEUEING TASKS | :   0%|          | 0/579 [00:00<?, ?it/s]"
      ]
     },
     "metadata": {},
     "output_type": "display_data"
    },
    {
     "data": {
      "application/vnd.jupyter.widget-view+json": {
       "model_id": "e8043acb0d3f422ebedaed9f287ab830",
       "version_major": 2,
       "version_minor": 0
      },
      "text/plain": [
       "PROCESSING TASKS | :   0%|          | 0/579 [00:00<?, ?it/s]"
      ]
     },
     "metadata": {},
     "output_type": "display_data"
    }
   ],
   "source": [
    "from pathlib import Path\n",
    "import earthaccess\n",
    "\n",
    "# Log in to Earthdata\n",
    "earthaccess.login()\n",
    "\n",
    "# Search for the data granules\n",
    "results = earthaccess.search_data(\n",
    "    short_name='SWOT_L2_LR_SSH_2.0',\n",
    "    granule_name='*Expert_010*'\n",
    ")\n",
    "\n",
    "num_granules = len(results)\n",
    "print(f'Granules: {num_granules}')\n",
    "\n",
    "# Define the base path and subdirectory for the files\n",
    "base_path = Path(\"/Users/marraqueta/Documents/APMG [Bonn]/Bathymetry and Gravity workshop/participants_presentations/Yao_Yu/code_SWOT_VGG/tunned_code/datos\")\n",
    "subfolder = \"SWOT_L2_LR_SSH_Expert_010\"\n",
    "\n",
    "# Combine the base path with the subfolder to create the final path\n",
    "folder = base_path / subfolder\n",
    "\n",
    "# Download the files to the specified folder\n",
    "earthaccess.download(results, folder)"
   ]
  }
 ],
 "metadata": {
  "kernelspec": {
   "display_name": "Python 3",
   "language": "python",
   "name": "python3"
  },
  "language_info": {
   "codemirror_mode": {
    "name": "ipython",
    "version": 3
   },
   "file_extension": ".py",
   "mimetype": "text/x-python",
   "name": "python",
   "nbconvert_exporter": "python",
   "pygments_lexer": "ipython3",
   "version": "3.12.0"
  }
 },
 "nbformat": 4,
 "nbformat_minor": 2
}
